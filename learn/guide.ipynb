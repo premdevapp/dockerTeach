{
 "metadata": {
  "language_info": {
   "codemirror_mode": {
    "name": "ipython",
    "version": 3
   },
   "file_extension": ".py",
   "mimetype": "text/x-python",
   "name": "python",
   "nbconvert_exporter": "python",
   "pygments_lexer": "ipython3",
   "version": "3.8.5-final"
  },
  "orig_nbformat": 2,
  "kernelspec": {
   "name": "javascript",
   "display_name": "Javascript (Node.js)"
  }
 },
 "nbformat": 4,
 "nbformat_minor": 2,
 "cells": [
  {
   "cell_type": "code",
   "execution_count": 5,
   "metadata": {
    "tags": []
   },
   "outputs": [
    {
     "output_type": "stream",
     "name": "stdout",
     "text": "********************************************************************************\n                                Docker course\n********************************************************************************\n"
    }
   ],
   "source": [
    "console.log('*'.repeat(80))\n",
    "console.log('Docker course'.padStart(45, ' '))\n",
    "console.log('*'.repeat(80))"
   ]
  },
  {
   "cell_type": "markdown",
   "metadata": {},
   "source": [
    "docker run -d -p 80:80 docker/getting-started"
   ]
  },
  {
   "cell_type": "code",
   "execution_count": null,
   "metadata": {},
   "outputs": [],
   "source": [
    "- docker container start 84c41e1776fc\n",
    "- docker container stop 84c41e1776fc\n",
    "- docker ps (-a)\n",
    "- docker image ls\n",
    "- docker container ls\n",
    "- docker image ls\n",
    "- Dockerfile file in root folder of app\n",
    "- \n",
    "** dockerfile **\n",
    "FROM node:12-alpine\n",
    "WORKDIR /app\n",
    "COPY . .\n",
    "RUN yarn install --production\n",
    "CMD [\"node\", \"src/index.js\"]\n",
    "\n",
    "- docker build -t getting-started .\n",
    "- docker run -dp 3000:3000 getting-started\n",
    "- docker rm (-f) <the-container-id>\n",
    "- docker tag getting-started YOUR-USER-NAME/getting-started\n",
    "- docker push YOUR-USER-NAME/getting-started\n",
    "-  Play with Docker.\n",
    "- + ADD NEW INSTANCE\n",
    "- docker run -dp 3000:3000 YOUR-USER-NAME/getting-started\n",
    "\n"
   ]
  },
  {
   "cell_type": "markdown",
   "metadata": {},
   "source": [
    "- docker run -d ubuntu bash -c \"shuf -i 1-10000 -n 1 -o /data.txt && tail -f /dev/null\"\n",
    "- docker exec < container-id > cat /data.txt\n",
    "- docker run -it ubuntu ls /\n",
    "- docker rm -f "
   ]
  },
  {
   "cell_type": "markdown",
   "metadata": {},
   "source": [
    "- docker volume create todo-db\n",
    "- docker run -dp 3000:3000 -v todo-db:/etc/todos getting-started"
   ]
  },
  {
   "cell_type": "markdown",
   "metadata": {},
   "source": [
    "- docker images -f dangling=true\n",
    "- docker rmi 4e2eef94cd6b"
   ]
  },
  {
   "cell_type": "markdown",
   "metadata": {},
   "source": [
    "- docker volume inspect todo-db"
   ]
  },
  {
   "cell_type": "markdown",
   "metadata": {},
   "source": [
    "- docker run -dp 3000:3000 \n",
    "    -w /app -v \"$(pwd):/app\" \n",
    "    node:12-alpine \n",
    "    sh -c \"yarn install && yarn run dev\"\n",
    "- "
   ]
  },
  {
   "cell_type": "markdown",
   "metadata": {},
   "source": [
    "- docker logs -f < container-id >"
   ]
  },
  {
   "cell_type": "markdown",
   "metadata": {},
   "source": [
    "- docker network create todo-app\n"
   ]
  },
  {
   "cell_type": "markdown",
   "metadata": {},
   "source": [
    "- docker run --name some-mysql -e MYSQL_ROOT_PASSWORD=my-secret-pw -d mysql:tag\n",
    "- docker run -it --network some-network --rm mysql mysql -hsome-mysql -uexample-user -p\n",
    "- docker run -it --rm mysql mysql -hsome.mysql.host -usome-mysql-user -p"
   ]
  },
  {
   "cell_type": "markdown",
   "metadata": {},
   "source": [
    ">> # Use root/example as user/password credentials\n",
    ">>version: '3.1'\n",
    "\n",
    ">>services:\n",
    "\n",
    "  >>db:\n",
    "    image: mysql\n",
    "    command: --default-authentication-plugin=mysql_native_password\n",
    "    restart: always\n",
    "    environment:\n",
    "      MYSQL_ROOT_PASSWORD: example\n",
    "\n",
    "  >>adminer:\n",
    "    image: adminer\n",
    "    restart: always\n",
    "    ports:\n",
    "      - 8080:8080"
   ]
  },
  {
   "cell_type": "markdown",
   "metadata": {},
   "source": [
    "docker-compose -f stack.yml up"
   ]
  },
  {
   "cell_type": "code",
   "execution_count": null,
   "metadata": {},
   "outputs": [],
   "source": [
    "- docker exec -it some-mysql bash\n",
    "- docker logs some-mysql"
   ]
  },
  {
   "cell_type": "markdown",
   "metadata": {},
   "source": [
    "- https://hub.docker.com/_/mysql/"
   ]
  },
  {
   "cell_type": "markdown",
   "metadata": {},
   "source": [
    "- docker exec -it < mysql-container-id > mysql -p\n",
    "- mysql> SHOW DATABASES;"
   ]
  },
  {
   "cell_type": "markdown",
   "metadata": {},
   "source": [
    "- docker run -it --network todo-app nicolaka/netshoot\n",
    "- dig mysql\n",
    "\n"
   ]
  },
  {
   "cell_type": "markdown",
   "metadata": {},
   "source": [
    "\n",
    "    MYSQL_HOST - the hostname for the running MySQL server\n",
    "    MYSQL_USER - the username to use for the connection\n",
    "    MYSQL_PASSWORD - the password to use for the connection\n",
    "    MYSQL_DB - the database to use once connected\n"
   ]
  },
  {
   "cell_type": "markdown",
   "metadata": {},
   "source": [
    ">>  docker run -dp 3000:3000 `\n",
    "      -w /app -v \"$(pwd):/app\" `\n",
    "      --network todo-app `\n",
    "      -e MYSQL_HOST=mysql `\n",
    "      -e MYSQL_USER=root `\n",
    "      -e MYSQL_PASSWORD=secret `\n",
    "      -e MYSQL_DB=todos `\n",
    "      node:12-alpine `\n",
    "      sh -c \"yarn install && yarn run dev\"\n"
   ]
  },
  {
   "cell_type": "markdown",
   "metadata": {},
   "source": [
    "docker exec -ti < mysql-container-id > mysql -p todos"
   ]
  },
  {
   "cell_type": "markdown",
   "metadata": {},
   "source": [
    "mysql> select * from todo_items;"
   ]
  },
  {
   "cell_type": "markdown",
   "metadata": {},
   "source": [
    "172.18.0.2"
   ]
  },
  {
   "cell_type": "markdown",
   "metadata": {},
   "source": [
    "docker-compose version"
   ]
  },
  {
   "cell_type": "markdown",
   "metadata": {},
   "source": [
    "docker-compose.yml"
   ]
  },
  {
   "cell_type": "markdown",
   "metadata": {},
   "source": [
    "version: \"3.8\"\n",
    "services:\n",
    "\n",
    "  redis:\n",
    "    image: redis:alpine\n",
    "    ports:\n",
    "      - \"6379\"\n",
    "    networks:\n",
    "      - frontend\n",
    "    deploy:\n",
    "      replicas: 2\n",
    "      update_config:\n",
    "        parallelism: 2\n",
    "        delay: 10s\n",
    "      restart_policy:\n",
    "        condition: on-failure\n",
    "\n",
    "  db:\n",
    "    image: postgres:9.4\n",
    "    volumes:\n",
    "      - db-data:/var/lib/postgresql/data\n",
    "    networks:\n",
    "      - backend\n",
    "    deploy:\n",
    "      placement:\n",
    "        max_replicas_per_node: 1\n",
    "        constraints:\n",
    "          - \"node.role==manager\"\n",
    "\n",
    "  vote:\n",
    "    image: dockersamples/examplevotingapp_vote:before\n",
    "    ports:\n",
    "      - \"5000:80\"\n",
    "    networks:\n",
    "      - frontend\n",
    "    depends_on:\n",
    "      - redis\n",
    "    deploy:\n",
    "      replicas: 2\n",
    "      update_config:\n",
    "        parallelism: 2\n",
    "      restart_policy:\n",
    "        condition: on-failure\n",
    "\n",
    "  result:\n",
    "    image: dockersamples/examplevotingapp_result:before\n",
    "    ports:\n",
    "      - \"5001:80\"\n",
    "    networks:\n",
    "      - backend\n",
    "    depends_on:\n",
    "      - db\n",
    "    deploy:\n",
    "      replicas: 1\n",
    "      update_config:\n",
    "        parallelism: 2\n",
    "        delay: 10s\n",
    "      restart_policy:\n",
    "        condition: on-failure\n",
    "\n",
    "  worker:\n",
    "    image: dockersamples/examplevotingapp_worker\n",
    "    networks:\n",
    "      - frontend\n",
    "      - backend\n",
    "    deploy:\n",
    "      mode: replicated\n",
    "      replicas: 1\n",
    "      labels: [APP=VOTING]\n",
    "      restart_policy:\n",
    "        condition: on-failure\n",
    "        delay: 10s\n",
    "        max_attempts: 3\n",
    "        window: 120s\n",
    "      placement:\n",
    "        constraints:\n",
    "          - \"node.role==manager\"\n",
    "\n",
    "  visualizer:\n",
    "    image: dockersamples/visualizer:stable\n",
    "    ports:\n",
    "      - \"8080:8080\"\n",
    "    stop_grace_period: 1m30s\n",
    "    volumes:\n",
    "      - \"/var/run/docker.sock:/var/run/docker.sock\"\n",
    "    deploy:\n",
    "      placement:\n",
    "        constraints:\n",
    "          - \"node.role==manager\"\n",
    "\n",
    "networks:\n",
    "  frontend:\n",
    "  backend:\n",
    "\n",
    "volumes:\n",
    "  db-data:"
   ]
  },
  {
   "cell_type": "markdown",
   "metadata": {},
   "source": [
    "version: \"3.7\"\n",
    "\n",
    "services:\n"
   ]
  },
  {
   "cell_type": "markdown",
   "metadata": {},
   "source": [
    "version: \"3.7\"\n",
    "\n",
    "services:\n",
    "  app:\n",
    "    image: node:12-alpine\n",
    "    command: sh -c \"yarn install && yarn run dev\"\n",
    "    ports:\n",
    "      - 3000:3000\n",
    "    working_dir: /app\n",
    "    volumes:\n",
    "      - ./:/app\n",
    "    environment:\n",
    "      MYSQL_HOST: mysql\n",
    "      MYSQL_USER: root\n",
    "      MYSQL_PASSWORD: secret\n",
    "      MYSQL_DB: todos\n",
    "\n",
    "  mysql:\n",
    "    image: mysql:5.7\n",
    "    volumes:\n",
    "      - todo-mysql-data:/var/lib/mysql\n",
    "    environment: \n",
    "      MYSQL_ROOT_PASSWORD: secret\n",
    "      MYSQL_DATABASE: todos\n",
    "\n",
    "volumes:\n",
    "  todo-mysql-data:"
   ]
  },
  {
   "cell_type": "markdown",
   "metadata": {},
   "source": [
    "docker-compose logs -f"
   ]
  },
  {
   "cell_type": "markdown",
   "metadata": {},
   "source": [
    "docker-compose down (--volumes)"
   ]
  },
  {
   "cell_type": "markdown",
   "metadata": {},
   "source": [
    "docker image history --no-trunc getting-started"
   ]
  },
  {
   "cell_type": "markdown",
   "metadata": {},
   "source": [
    "FROM node:12-alpine\n",
    "WORKDIR /app\n",
    "COPY package.json yarn.lock ./\n",
    "RUN yarn install --production\n",
    "COPY . .\n",
    "CMD [\"node\", \"src/index.js\"]"
   ]
  },
  {
   "cell_type": "markdown",
   "metadata": {},
   "source": [
    ".dockerignore >> node_modules"
   ]
  },
  {
   "cell_type": "markdown",
   "metadata": {},
   "source": [
    "- Using cache\n",
    "- Multi-Stage Builds\n"
   ]
  },
  {
   "cell_type": "markdown",
   "metadata": {},
   "source": [
    "FROM maven AS build\n",
    "WORKDIR /app\n",
    "COPY . .\n",
    "RUN mvn package\n",
    "\n",
    "FROM tomcat\n",
    "COPY --from=build /app/target/file.war /usr/local/tomcat/webapps "
   ]
  },
  {
   "cell_type": "markdown",
   "metadata": {},
   "source": [
    "FROM node:12 AS build\n",
    "WORKDIR /app\n",
    "COPY package* yarn.lock ./\n",
    "RUN yarn install\n",
    "COPY public ./public\n",
    "COPY src ./src\n",
    "RUN yarn run build\n",
    "\n",
    "FROM nginx:alpine\n",
    "COPY --from=build /app/build /usr/share/nginx/html"
   ]
  },
  {
   "cell_type": "markdown",
   "metadata": {},
   "source": [
    "- Container Orchestration\n",
    "- Cloud Native Computing Foundation Projects"
   ]
  },
  {
   "cell_type": "code",
   "execution_count": null,
   "metadata": {},
   "outputs": [],
   "source": []
  }
 ]
}